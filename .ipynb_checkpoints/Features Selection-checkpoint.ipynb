{
 "cells": [
  {
   "cell_type": "markdown",
   "id": "6ef7dc55",
   "metadata": {},
   "source": [
    "# "
   ]
  },
  {
   "cell_type": "markdown",
   "id": "6dcb62bd",
   "metadata": {},
   "source": [
    "\n",
    "# <font size=8>Features Selection</font>"
   ]
  },
  {
   "cell_type": "markdown",
   "id": "e3b244f5",
   "metadata": {},
   "source": [
    "# "
   ]
  },
  {
   "cell_type": "markdown",
   "id": "597ab579",
   "metadata": {},
   "source": [
    "# <font size=6>Project Description</font>"
   ]
  },
  {
   "cell_type": "code",
   "execution_count": null,
   "id": "9b971ec0",
   "metadata": {},
   "outputs": [],
   "source": [
    "# description"
   ]
  },
  {
   "cell_type": "markdown",
   "id": "0a82130f",
   "metadata": {},
   "source": [
    "# <font size=6>Data</font>"
   ]
  },
  {
   "cell_type": "code",
   "execution_count": null,
   "id": "e639b15c",
   "metadata": {},
   "outputs": [],
   "source": [
    "# Describe, legends, source"
   ]
  },
  {
   "cell_type": "markdown",
   "id": "34f5c668",
   "metadata": {},
   "source": [
    "---"
   ]
  },
  {
   "cell_type": "markdown",
   "id": "1b85967e",
   "metadata": {},
   "source": [
    "## <font size=6>Imports"
   ]
  },
  {
   "cell_type": "code",
   "execution_count": null,
   "id": "2802a3c4",
   "metadata": {},
   "outputs": [],
   "source": [
    "# Import"
   ]
  },
  {
   "cell_type": "markdown",
   "id": "e64a05de",
   "metadata": {},
   "source": [
    "---"
   ]
  },
  {
   "cell_type": "markdown",
   "id": "739a6726",
   "metadata": {},
   "source": [
    "## <font size=6>Load Data"
   ]
  },
  {
   "cell_type": "code",
   "execution_count": null,
   "id": "c1d583ae",
   "metadata": {},
   "outputs": [],
   "source": [
    "# load"
   ]
  },
  {
   "cell_type": "code",
   "execution_count": null,
   "id": "0330f818",
   "metadata": {},
   "outputs": [],
   "source": [
    "# preview"
   ]
  },
  {
   "cell_type": "markdown",
   "id": "8b94d018",
   "metadata": {},
   "source": [
    "---"
   ]
  },
  {
   "cell_type": "markdown",
   "id": "42475a7b",
   "metadata": {},
   "source": [
    "# <font size=6>1 - Statistic Filters</font>"
   ]
  },
  {
   "cell_type": "markdown",
   "id": "9d5bee66",
   "metadata": {},
   "source": [
    "# Correlation"
   ]
  },
  {
   "cell_type": "code",
   "execution_count": null,
   "id": "c12dbf66",
   "metadata": {},
   "outputs": [],
   "source": []
  },
  {
   "cell_type": "markdown",
   "id": "2c653923",
   "metadata": {},
   "source": [
    "# Power Predictive Score"
   ]
  },
  {
   "cell_type": "code",
   "execution_count": null,
   "id": "a4b6f1bd",
   "metadata": {},
   "outputs": [],
   "source": []
  },
  {
   "cell_type": "markdown",
   "id": "3cc2b67d",
   "metadata": {},
   "source": [
    "# Categorical Univariate Selection - Chi2"
   ]
  },
  {
   "cell_type": "code",
   "execution_count": null,
   "id": "bd09051c",
   "metadata": {},
   "outputs": [],
   "source": []
  },
  {
   "cell_type": "markdown",
   "id": "76cd4a9e",
   "metadata": {},
   "source": [
    "# Numeric Univariate Selection - ANOVA"
   ]
  },
  {
   "cell_type": "code",
   "execution_count": null,
   "id": "81a81e90",
   "metadata": {},
   "outputs": [],
   "source": []
  },
  {
   "cell_type": "markdown",
   "id": "63b19b99",
   "metadata": {},
   "source": [
    "# Test t for means"
   ]
  },
  {
   "cell_type": "code",
   "execution_count": null,
   "id": "33427379",
   "metadata": {},
   "outputs": [],
   "source": []
  },
  {
   "cell_type": "markdown",
   "id": "4365cff1",
   "metadata": {},
   "source": [
    "# Linear Regression Coeficients"
   ]
  },
  {
   "cell_type": "code",
   "execution_count": null,
   "id": "f3b1a506",
   "metadata": {},
   "outputs": [],
   "source": []
  },
  {
   "cell_type": "markdown",
   "id": "41553751",
   "metadata": {},
   "source": [
    "---"
   ]
  },
  {
   "cell_type": "markdown",
   "id": "59811d04",
   "metadata": {},
   "source": [
    "# <font size=6>2 - Wrapper Methods</font>"
   ]
  },
  {
   "cell_type": "markdown",
   "id": "fe570663",
   "metadata": {},
   "source": [
    "# Recursive Feature Elimination - RFE"
   ]
  },
  {
   "cell_type": "code",
   "execution_count": null,
   "id": "7af58012",
   "metadata": {},
   "outputs": [],
   "source": []
  },
  {
   "cell_type": "markdown",
   "id": "b4228544",
   "metadata": {},
   "source": [
    "# Recursive Feature Elimination - RFECV"
   ]
  },
  {
   "cell_type": "code",
   "execution_count": null,
   "id": "254c9e2a",
   "metadata": {},
   "outputs": [],
   "source": []
  },
  {
   "cell_type": "markdown",
   "id": "445013b0",
   "metadata": {},
   "source": [
    "# Sequencial Features Elimination - SFS"
   ]
  },
  {
   "cell_type": "code",
   "execution_count": null,
   "id": "a534fdae",
   "metadata": {},
   "outputs": [],
   "source": []
  },
  {
   "cell_type": "markdown",
   "id": "ff599821",
   "metadata": {},
   "source": [
    "---"
   ]
  },
  {
   "cell_type": "markdown",
   "id": "cac68c89",
   "metadata": {},
   "source": [
    "# <font size=6>3 - Embedded Methods</font>"
   ]
  },
  {
   "cell_type": "markdown",
   "id": "ad9a9de1",
   "metadata": {},
   "source": [
    "# Ridge"
   ]
  },
  {
   "cell_type": "code",
   "execution_count": null,
   "id": "575ca93e",
   "metadata": {},
   "outputs": [],
   "source": []
  },
  {
   "cell_type": "markdown",
   "id": "f7220bf7",
   "metadata": {},
   "source": [
    "# Lasso"
   ]
  },
  {
   "cell_type": "code",
   "execution_count": null,
   "id": "f5699271",
   "metadata": {},
   "outputs": [],
   "source": [
    "# lasso cv"
   ]
  },
  {
   "cell_type": "markdown",
   "id": "c5448321",
   "metadata": {},
   "source": [
    "---"
   ]
  },
  {
   "cell_type": "markdown",
   "id": "937db591",
   "metadata": {},
   "source": [
    "# <font size=6>4 - Dimensionality Reduction</font>"
   ]
  },
  {
   "cell_type": "markdown",
   "id": "14a4d118",
   "metadata": {},
   "source": [
    "# Principal Component Analisys - PCA"
   ]
  },
  {
   "cell_type": "code",
   "execution_count": null,
   "id": "10b43326",
   "metadata": {},
   "outputs": [],
   "source": []
  },
  {
   "cell_type": "markdown",
   "id": "f122b86a",
   "metadata": {},
   "source": [
    "# T- Distributed Stochastic Neighbor Embedding - t-SNE"
   ]
  },
  {
   "cell_type": "code",
   "execution_count": null,
   "id": "e082f5ce",
   "metadata": {},
   "outputs": [],
   "source": []
  },
  {
   "cell_type": "markdown",
   "id": "7bab9978",
   "metadata": {},
   "source": [
    "---"
   ]
  }
 ],
 "metadata": {
  "kernelspec": {
   "display_name": "Python 3 (ipykernel)",
   "language": "python",
   "name": "python3"
  },
  "language_info": {
   "codemirror_mode": {
    "name": "ipython",
    "version": 3
   },
   "file_extension": ".py",
   "mimetype": "text/x-python",
   "name": "python",
   "nbconvert_exporter": "python",
   "pygments_lexer": "ipython3",
   "version": "3.9.13"
  }
 },
 "nbformat": 4,
 "nbformat_minor": 5
}
