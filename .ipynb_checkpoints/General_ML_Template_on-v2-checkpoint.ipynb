{
 "cells": [
  {
   "cell_type": "markdown",
   "id": "dba51a7a",
   "metadata": {},
   "source": [
    "# "
   ]
  },
  {
   "cell_type": "markdown",
   "id": "89bc10e1",
   "metadata": {},
   "source": [
    "# <font size=10>Template Machine Learning</font>"
   ]
  },
  {
   "cell_type": "markdown",
   "id": "d5403a7f",
   "metadata": {},
   "source": [
    "# "
   ]
  },
  {
   "cell_type": "markdown",
   "id": "597ab579",
   "metadata": {},
   "source": [
    "# <font size=6>Project Description</font>"
   ]
  },
  {
   "cell_type": "markdown",
   "id": "a402b725",
   "metadata": {},
   "source": [
    "Prever salário"
   ]
  },
  {
   "cell_type": "markdown",
   "id": "0a82130f",
   "metadata": {},
   "source": [
    "# Data"
   ]
  },
  {
   "cell_type": "code",
   "execution_count": 1,
   "id": "e639b15c",
   "metadata": {},
   "outputs": [],
   "source": [
    "# Describe, legends, source"
   ]
  },
  {
   "cell_type": "markdown",
   "id": "34f5c668",
   "metadata": {},
   "source": [
    "---"
   ]
  },
  {
   "cell_type": "markdown",
   "id": "1b85967e",
   "metadata": {},
   "source": [
    "## <font size=6>Imports"
   ]
  },
  {
   "cell_type": "code",
   "execution_count": 2,
   "id": "2802a3c4",
   "metadata": {},
   "outputs": [],
   "source": [
    "# EDA\n",
    "import math\n",
    "import numpy as np\n",
    "import pandas as pd\n",
    "import seaborn as sns\n",
    "import matplotlib.pyplot as plt\n",
    "\n",
    "# Statistic\n",
    "from statsmodels.graphics.gofplots import qqplot\n",
    "from scipy.stats import shapiro, kstest, probplot"
   ]
  },
  {
   "cell_type": "code",
   "execution_count": 3,
   "id": "5d501abe",
   "metadata": {},
   "outputs": [],
   "source": [
    "# Scalers\n",
    "from sklearn.preprocessing import StandardScaler, MinMaxScaler\n",
    "\n",
    "# Split data\n",
    "from sklearn.model_selection import train_test_split\n",
    "\n",
    "# Features engeneering"
   ]
  },
  {
   "cell_type": "code",
   "execution_count": 4,
   "id": "f0a3f013",
   "metadata": {},
   "outputs": [],
   "source": [
    "# Transformers\n",
    "\n",
    "# Pipelines"
   ]
  },
  {
   "cell_type": "code",
   "execution_count": 5,
   "id": "a9b9a6e3",
   "metadata": {},
   "outputs": [],
   "source": [
    "# Models\n",
    "from sklearn.linear_model import LinearRegression"
   ]
  },
  {
   "cell_type": "code",
   "execution_count": 6,
   "id": "0d95e6bf",
   "metadata": {},
   "outputs": [],
   "source": [
    "# utils\n",
    "from utils.eda_utils import remove_acentuacao, df_bins_bucket, plot_box_plot, heatmap_correlations\n",
    "from utils.eda_utils import pairplot_correlations, heatmap_corr_sorted, box_plot_correlations, box_plot_corr_bucket"
   ]
  },
  {
   "cell_type": "markdown",
   "id": "e64a05de",
   "metadata": {},
   "source": [
    "---"
   ]
  },
  {
   "cell_type": "markdown",
   "id": "739a6726",
   "metadata": {},
   "source": [
    "## <font size=6>Load Data"
   ]
  },
  {
   "cell_type": "code",
   "execution_count": 7,
   "id": "c1d583ae",
   "metadata": {},
   "outputs": [],
   "source": [
    "# load\n",
    "df = pd.read_csv('C:/Users/Usuario/DataProject/Cursos/rocketseat/data-science/datasets/salarios.csv')"
   ]
  },
  {
   "cell_type": "code",
   "execution_count": 8,
   "id": "713a7a6c",
   "metadata": {},
   "outputs": [
    {
     "data": {
      "text/html": [
       "<div>\n",
       "<style scoped>\n",
       "    .dataframe tbody tr th:only-of-type {\n",
       "        vertical-align: middle;\n",
       "    }\n",
       "\n",
       "    .dataframe tbody tr th {\n",
       "        vertical-align: top;\n",
       "    }\n",
       "\n",
       "    .dataframe thead th {\n",
       "        text-align: right;\n",
       "    }\n",
       "</style>\n",
       "<table border=\"1\" class=\"dataframe\">\n",
       "  <thead>\n",
       "    <tr style=\"text-align: right;\">\n",
       "      <th></th>\n",
       "      <th>tempo_na_empresa</th>\n",
       "      <th>nivel_na_empresa</th>\n",
       "      <th>salario_em_reais</th>\n",
       "    </tr>\n",
       "  </thead>\n",
       "  <tbody>\n",
       "    <tr>\n",
       "      <th>0</th>\n",
       "      <td>50</td>\n",
       "      <td>1</td>\n",
       "      <td>2288.13</td>\n",
       "    </tr>\n",
       "    <tr>\n",
       "      <th>1</th>\n",
       "      <td>49</td>\n",
       "      <td>4</td>\n",
       "      <td>2389.84</td>\n",
       "    </tr>\n",
       "    <tr>\n",
       "      <th>2</th>\n",
       "      <td>39</td>\n",
       "      <td>10</td>\n",
       "      <td>2158.73</td>\n",
       "    </tr>\n",
       "    <tr>\n",
       "      <th>3</th>\n",
       "      <td>51</td>\n",
       "      <td>1</td>\n",
       "      <td>2341.06</td>\n",
       "    </tr>\n",
       "    <tr>\n",
       "      <th>4</th>\n",
       "      <td>62</td>\n",
       "      <td>7</td>\n",
       "      <td>3584.20</td>\n",
       "    </tr>\n",
       "    <tr>\n",
       "      <th>...</th>\n",
       "      <td>...</td>\n",
       "      <td>...</td>\n",
       "      <td>...</td>\n",
       "    </tr>\n",
       "    <tr>\n",
       "      <th>995</th>\n",
       "      <td>5</td>\n",
       "      <td>10</td>\n",
       "      <td>1037.35</td>\n",
       "    </tr>\n",
       "    <tr>\n",
       "      <th>996</th>\n",
       "      <td>7</td>\n",
       "      <td>2</td>\n",
       "      <td>668.01</td>\n",
       "    </tr>\n",
       "    <tr>\n",
       "      <th>997</th>\n",
       "      <td>118</td>\n",
       "      <td>6</td>\n",
       "      <td>17511.13</td>\n",
       "    </tr>\n",
       "    <tr>\n",
       "      <th>998</th>\n",
       "      <td>94</td>\n",
       "      <td>10</td>\n",
       "      <td>8938.96</td>\n",
       "    </tr>\n",
       "    <tr>\n",
       "      <th>999</th>\n",
       "      <td>11</td>\n",
       "      <td>10</td>\n",
       "      <td>1231.86</td>\n",
       "    </tr>\n",
       "  </tbody>\n",
       "</table>\n",
       "<p>1000 rows × 3 columns</p>\n",
       "</div>"
      ],
      "text/plain": [
       "     tempo_na_empresa  nivel_na_empresa  salario_em_reais\n",
       "0                  50                 1           2288.13\n",
       "1                  49                 4           2389.84\n",
       "2                  39                10           2158.73\n",
       "3                  51                 1           2341.06\n",
       "4                  62                 7           3584.20\n",
       "..                ...               ...               ...\n",
       "995                 5                10           1037.35\n",
       "996                 7                 2            668.01\n",
       "997               118                 6          17511.13\n",
       "998                94                10           8938.96\n",
       "999                11                10           1231.86\n",
       "\n",
       "[1000 rows x 3 columns]"
      ]
     },
     "execution_count": 8,
     "metadata": {},
     "output_type": "execute_result"
    }
   ],
   "source": [
    "# Preview\n",
    "df"
   ]
  },
  {
   "cell_type": "markdown",
   "id": "a944144d",
   "metadata": {},
   "source": [
    "## Pre-Processing"
   ]
  },
  {
   "cell_type": "code",
   "execution_count": 9,
   "id": "5d7176e0",
   "metadata": {},
   "outputs": [],
   "source": [
    "# drop id\n",
    "#df.drop(columns='Id', inplace=True)\n",
    "\n",
    "# rename columns\n",
    "df.columns = [col.lower() for col in df.columns]\n",
    "\n",
    "# replace white spaces\n",
    "df.columns = [col.replace(' ', '_') for col in df.columns]\n",
    "\n",
    "# remove accent\n",
    "df.columns = [remove_acentuacao(col) for col in df.columns]"
   ]
  },
  {
   "cell_type": "code",
   "execution_count": 10,
   "id": "009811e7",
   "metadata": {},
   "outputs": [
    {
     "data": {
      "text/html": [
       "<div>\n",
       "<style scoped>\n",
       "    .dataframe tbody tr th:only-of-type {\n",
       "        vertical-align: middle;\n",
       "    }\n",
       "\n",
       "    .dataframe tbody tr th {\n",
       "        vertical-align: top;\n",
       "    }\n",
       "\n",
       "    .dataframe thead th {\n",
       "        text-align: right;\n",
       "    }\n",
       "</style>\n",
       "<table border=\"1\" class=\"dataframe\">\n",
       "  <thead>\n",
       "    <tr style=\"text-align: right;\">\n",
       "      <th></th>\n",
       "      <th>tempo_na_empresa</th>\n",
       "      <th>nivel_na_empresa</th>\n",
       "      <th>salario_em_reais</th>\n",
       "    </tr>\n",
       "  </thead>\n",
       "  <tbody>\n",
       "    <tr>\n",
       "      <th>0</th>\n",
       "      <td>50</td>\n",
       "      <td>1</td>\n",
       "      <td>2288.13</td>\n",
       "    </tr>\n",
       "    <tr>\n",
       "      <th>1</th>\n",
       "      <td>49</td>\n",
       "      <td>4</td>\n",
       "      <td>2389.84</td>\n",
       "    </tr>\n",
       "    <tr>\n",
       "      <th>2</th>\n",
       "      <td>39</td>\n",
       "      <td>10</td>\n",
       "      <td>2158.73</td>\n",
       "    </tr>\n",
       "    <tr>\n",
       "      <th>3</th>\n",
       "      <td>51</td>\n",
       "      <td>1</td>\n",
       "      <td>2341.06</td>\n",
       "    </tr>\n",
       "    <tr>\n",
       "      <th>4</th>\n",
       "      <td>62</td>\n",
       "      <td>7</td>\n",
       "      <td>3584.20</td>\n",
       "    </tr>\n",
       "    <tr>\n",
       "      <th>...</th>\n",
       "      <td>...</td>\n",
       "      <td>...</td>\n",
       "      <td>...</td>\n",
       "    </tr>\n",
       "    <tr>\n",
       "      <th>995</th>\n",
       "      <td>5</td>\n",
       "      <td>10</td>\n",
       "      <td>1037.35</td>\n",
       "    </tr>\n",
       "    <tr>\n",
       "      <th>996</th>\n",
       "      <td>7</td>\n",
       "      <td>2</td>\n",
       "      <td>668.01</td>\n",
       "    </tr>\n",
       "    <tr>\n",
       "      <th>997</th>\n",
       "      <td>118</td>\n",
       "      <td>6</td>\n",
       "      <td>17511.13</td>\n",
       "    </tr>\n",
       "    <tr>\n",
       "      <th>998</th>\n",
       "      <td>94</td>\n",
       "      <td>10</td>\n",
       "      <td>8938.96</td>\n",
       "    </tr>\n",
       "    <tr>\n",
       "      <th>999</th>\n",
       "      <td>11</td>\n",
       "      <td>10</td>\n",
       "      <td>1231.86</td>\n",
       "    </tr>\n",
       "  </tbody>\n",
       "</table>\n",
       "<p>1000 rows × 3 columns</p>\n",
       "</div>"
      ],
      "text/plain": [
       "     tempo_na_empresa  nivel_na_empresa  salario_em_reais\n",
       "0                  50                 1           2288.13\n",
       "1                  49                 4           2389.84\n",
       "2                  39                10           2158.73\n",
       "3                  51                 1           2341.06\n",
       "4                  62                 7           3584.20\n",
       "..                ...               ...               ...\n",
       "995                 5                10           1037.35\n",
       "996                 7                 2            668.01\n",
       "997               118                 6          17511.13\n",
       "998                94                10           8938.96\n",
       "999                11                10           1231.86\n",
       "\n",
       "[1000 rows x 3 columns]"
      ]
     },
     "execution_count": 10,
     "metadata": {},
     "output_type": "execute_result"
    }
   ],
   "source": [
    "# View\n",
    "df"
   ]
  },
  {
   "cell_type": "markdown",
   "id": "8faea9cd",
   "metadata": {},
   "source": [
    "## Copy Dataset"
   ]
  },
  {
   "cell_type": "code",
   "execution_count": 11,
   "id": "d0c0ebf3",
   "metadata": {},
   "outputs": [],
   "source": [
    "# eda dataset\n",
    "df_eda = df.copy()"
   ]
  },
  {
   "cell_type": "code",
   "execution_count": 12,
   "id": "5294c749",
   "metadata": {},
   "outputs": [],
   "source": [
    "# Bucket dataset\n",
    "df_bckt = df.copy()"
   ]
  },
  {
   "cell_type": "markdown",
   "id": "748d9cb0",
   "metadata": {},
   "source": [
    "## Define target"
   ]
  },
  {
   "cell_type": "code",
   "execution_count": 13,
   "id": "18d33a53",
   "metadata": {},
   "outputs": [],
   "source": [
    "target = 'salario_em_reais'"
   ]
  },
  {
   "cell_type": "markdown",
   "id": "9f1f5e18",
   "metadata": {},
   "source": [
    "---"
   ]
  },
  {
   "cell_type": "markdown",
   "id": "4f927aa0",
   "metadata": {},
   "source": [
    "# <font size=6>Exploratory Data Analisys - EDA"
   ]
  },
  {
   "cell_type": "markdown",
   "id": "c110fb46",
   "metadata": {},
   "source": [
    "## Overview"
   ]
  },
  {
   "cell_type": "code",
   "execution_count": 14,
   "id": "0330f818",
   "metadata": {},
   "outputs": [
    {
     "data": {
      "text/html": [
       "<div>\n",
       "<style scoped>\n",
       "    .dataframe tbody tr th:only-of-type {\n",
       "        vertical-align: middle;\n",
       "    }\n",
       "\n",
       "    .dataframe tbody tr th {\n",
       "        vertical-align: top;\n",
       "    }\n",
       "\n",
       "    .dataframe thead th {\n",
       "        text-align: right;\n",
       "    }\n",
       "</style>\n",
       "<table border=\"1\" class=\"dataframe\">\n",
       "  <thead>\n",
       "    <tr style=\"text-align: right;\">\n",
       "      <th></th>\n",
       "      <th>tempo_na_empresa</th>\n",
       "      <th>nivel_na_empresa</th>\n",
       "      <th>salario_em_reais</th>\n",
       "    </tr>\n",
       "  </thead>\n",
       "  <tbody>\n",
       "    <tr>\n",
       "      <th>0</th>\n",
       "      <td>50</td>\n",
       "      <td>1</td>\n",
       "      <td>2288.13</td>\n",
       "    </tr>\n",
       "    <tr>\n",
       "      <th>1</th>\n",
       "      <td>49</td>\n",
       "      <td>4</td>\n",
       "      <td>2389.84</td>\n",
       "    </tr>\n",
       "    <tr>\n",
       "      <th>2</th>\n",
       "      <td>39</td>\n",
       "      <td>10</td>\n",
       "      <td>2158.73</td>\n",
       "    </tr>\n",
       "    <tr>\n",
       "      <th>3</th>\n",
       "      <td>51</td>\n",
       "      <td>1</td>\n",
       "      <td>2341.06</td>\n",
       "    </tr>\n",
       "    <tr>\n",
       "      <th>4</th>\n",
       "      <td>62</td>\n",
       "      <td>7</td>\n",
       "      <td>3584.20</td>\n",
       "    </tr>\n",
       "    <tr>\n",
       "      <th>...</th>\n",
       "      <td>...</td>\n",
       "      <td>...</td>\n",
       "      <td>...</td>\n",
       "    </tr>\n",
       "    <tr>\n",
       "      <th>995</th>\n",
       "      <td>5</td>\n",
       "      <td>10</td>\n",
       "      <td>1037.35</td>\n",
       "    </tr>\n",
       "    <tr>\n",
       "      <th>996</th>\n",
       "      <td>7</td>\n",
       "      <td>2</td>\n",
       "      <td>668.01</td>\n",
       "    </tr>\n",
       "    <tr>\n",
       "      <th>997</th>\n",
       "      <td>118</td>\n",
       "      <td>6</td>\n",
       "      <td>17511.13</td>\n",
       "    </tr>\n",
       "    <tr>\n",
       "      <th>998</th>\n",
       "      <td>94</td>\n",
       "      <td>10</td>\n",
       "      <td>8938.96</td>\n",
       "    </tr>\n",
       "    <tr>\n",
       "      <th>999</th>\n",
       "      <td>11</td>\n",
       "      <td>10</td>\n",
       "      <td>1231.86</td>\n",
       "    </tr>\n",
       "  </tbody>\n",
       "</table>\n",
       "<p>1000 rows × 3 columns</p>\n",
       "</div>"
      ],
      "text/plain": [
       "     tempo_na_empresa  nivel_na_empresa  salario_em_reais\n",
       "0                  50                 1           2288.13\n",
       "1                  49                 4           2389.84\n",
       "2                  39                10           2158.73\n",
       "3                  51                 1           2341.06\n",
       "4                  62                 7           3584.20\n",
       "..                ...               ...               ...\n",
       "995                 5                10           1037.35\n",
       "996                 7                 2            668.01\n",
       "997               118                 6          17511.13\n",
       "998                94                10           8938.96\n",
       "999                11                10           1231.86\n",
       "\n",
       "[1000 rows x 3 columns]"
      ]
     },
     "execution_count": 14,
     "metadata": {},
     "output_type": "execute_result"
    }
   ],
   "source": [
    "# preview\n",
    "df_eda"
   ]
  },
  {
   "cell_type": "code",
   "execution_count": 15,
   "id": "827a96d7",
   "metadata": {},
   "outputs": [
    {
     "data": {
      "text/plain": [
       "(1000, 3)"
      ]
     },
     "execution_count": 15,
     "metadata": {},
     "output_type": "execute_result"
    }
   ],
   "source": [
    "# shape\n",
    "df_eda.shape"
   ]
  },
  {
   "cell_type": "code",
   "execution_count": 16,
   "id": "ee48bacc",
   "metadata": {},
   "outputs": [
    {
     "data": {
      "text/plain": [
       "tempo_na_empresa      int64\n",
       "nivel_na_empresa      int64\n",
       "salario_em_reais    float64\n",
       "dtype: object"
      ]
     },
     "execution_count": 16,
     "metadata": {},
     "output_type": "execute_result"
    }
   ],
   "source": [
    "# type\n",
    "df_eda.dtypes"
   ]
  },
  {
   "cell_type": "code",
   "execution_count": 17,
   "id": "2e9c2e94",
   "metadata": {},
   "outputs": [
    {
     "data": {
      "text/plain": [
       "tempo_na_empresa     120\n",
       "nivel_na_empresa      10\n",
       "salario_em_reais    1000\n",
       "dtype: int64"
      ]
     },
     "execution_count": 17,
     "metadata": {},
     "output_type": "execute_result"
    }
   ],
   "source": [
    "# uniques\n",
    "df_eda.nunique()"
   ]
  },
  {
   "cell_type": "code",
   "execution_count": 18,
   "id": "1dc20d6e",
   "metadata": {},
   "outputs": [
    {
     "name": "stdout",
     "output_type": "stream",
     "text": [
      "<class 'pandas.core.frame.DataFrame'>\n",
      "RangeIndex: 1000 entries, 0 to 999\n",
      "Data columns (total 3 columns):\n",
      " #   Column            Non-Null Count  Dtype  \n",
      "---  ------            --------------  -----  \n",
      " 0   tempo_na_empresa  1000 non-null   int64  \n",
      " 1   nivel_na_empresa  1000 non-null   int64  \n",
      " 2   salario_em_reais  1000 non-null   float64\n",
      "dtypes: float64(1), int64(2)\n",
      "memory usage: 23.6 KB\n"
     ]
    }
   ],
   "source": [
    "# info\n",
    "df_eda.info()"
   ]
  },
  {
   "cell_type": "code",
   "execution_count": 19,
   "id": "46cb14e6",
   "metadata": {},
   "outputs": [],
   "source": [
    "# target balance (for classification)"
   ]
  },
  {
   "cell_type": "markdown",
   "id": "6af5e418",
   "metadata": {},
   "source": [
    "## Summary Describe"
   ]
  },
  {
   "cell_type": "code",
   "execution_count": 20,
   "id": "a51b7b6f",
   "metadata": {},
   "outputs": [
    {
     "data": {
      "text/html": [
       "<div>\n",
       "<style scoped>\n",
       "    .dataframe tbody tr th:only-of-type {\n",
       "        vertical-align: middle;\n",
       "    }\n",
       "\n",
       "    .dataframe tbody tr th {\n",
       "        vertical-align: top;\n",
       "    }\n",
       "\n",
       "    .dataframe thead th {\n",
       "        text-align: right;\n",
       "    }\n",
       "</style>\n",
       "<table border=\"1\" class=\"dataframe\">\n",
       "  <thead>\n",
       "    <tr style=\"text-align: right;\">\n",
       "      <th></th>\n",
       "      <th>tempo_na_empresa</th>\n",
       "      <th>nivel_na_empresa</th>\n",
       "      <th>salario_em_reais</th>\n",
       "    </tr>\n",
       "  </thead>\n",
       "  <tbody>\n",
       "    <tr>\n",
       "      <th>count</th>\n",
       "      <td>1000.000000</td>\n",
       "      <td>1000.000000</td>\n",
       "      <td>1000.000000</td>\n",
       "    </tr>\n",
       "    <tr>\n",
       "      <th>mean</th>\n",
       "      <td>59.712000</td>\n",
       "      <td>5.467000</td>\n",
       "      <td>5093.726110</td>\n",
       "    </tr>\n",
       "    <tr>\n",
       "      <th>std</th>\n",
       "      <td>34.027679</td>\n",
       "      <td>2.889509</td>\n",
       "      <td>4536.168857</td>\n",
       "    </tr>\n",
       "    <tr>\n",
       "      <th>min</th>\n",
       "      <td>1.000000</td>\n",
       "      <td>1.000000</td>\n",
       "      <td>538.560000</td>\n",
       "    </tr>\n",
       "    <tr>\n",
       "      <th>25%</th>\n",
       "      <td>30.750000</td>\n",
       "      <td>3.000000</td>\n",
       "      <td>1537.477500</td>\n",
       "    </tr>\n",
       "    <tr>\n",
       "      <th>50%</th>\n",
       "      <td>60.000000</td>\n",
       "      <td>6.000000</td>\n",
       "      <td>3237.920000</td>\n",
       "    </tr>\n",
       "    <tr>\n",
       "      <th>75%</th>\n",
       "      <td>89.000000</td>\n",
       "      <td>8.000000</td>\n",
       "      <td>7436.680000</td>\n",
       "    </tr>\n",
       "    <tr>\n",
       "      <th>max</th>\n",
       "      <td>120.000000</td>\n",
       "      <td>10.000000</td>\n",
       "      <td>18923.230000</td>\n",
       "    </tr>\n",
       "  </tbody>\n",
       "</table>\n",
       "</div>"
      ],
      "text/plain": [
       "       tempo_na_empresa  nivel_na_empresa  salario_em_reais\n",
       "count       1000.000000       1000.000000       1000.000000\n",
       "mean          59.712000          5.467000       5093.726110\n",
       "std           34.027679          2.889509       4536.168857\n",
       "min            1.000000          1.000000        538.560000\n",
       "25%           30.750000          3.000000       1537.477500\n",
       "50%           60.000000          6.000000       3237.920000\n",
       "75%           89.000000          8.000000       7436.680000\n",
       "max          120.000000         10.000000      18923.230000"
      ]
     },
     "execution_count": 20,
     "metadata": {},
     "output_type": "execute_result"
    }
   ],
   "source": [
    "# numeric describe\n",
    "df_eda.select_dtypes(exclude=[object, 'category']).describe()"
   ]
  },
  {
   "cell_type": "markdown",
   "id": "f7a6684c",
   "metadata": {},
   "source": [
    "A mediana muito distante da média indir assimetria, mas tbm pode indicar uma relação não linear com as variáveis explicativas."
   ]
  },
  {
   "cell_type": "code",
   "execution_count": 21,
   "id": "445b55cb",
   "metadata": {},
   "outputs": [],
   "source": [
    "# categorical describe\n",
    "#df_eda.select_dtypes(include=[object, 'category']).describe()"
   ]
  },
  {
   "cell_type": "code",
   "execution_count": 22,
   "id": "270e4720",
   "metadata": {},
   "outputs": [],
   "source": [
    "# Unique values for categorical features\n",
    "for col in df_eda.select_dtypes(include=[object, 'category']).columns:\n",
    "    print(f\"{col}: {df_eda[col].unique()}\")"
   ]
  },
  {
   "cell_type": "code",
   "execution_count": 66,
   "id": "abdfbae8",
   "metadata": {},
   "outputs": [],
   "source": [
    "# Count categorical features\n",
    "for col in df_eda.select_dtypes(include=[object, 'category']).columns:\n",
    "    print(f\"{df_eda.select_dtypes(include=[object, 'category']).value_counts(col)}\\n\")"
   ]
  },
  {
   "cell_type": "code",
   "execution_count": 23,
   "id": "c1e64fbd",
   "metadata": {},
   "outputs": [],
   "source": [
    "# crosstab categorical features"
   ]
  },
  {
   "cell_type": "markdown",
   "id": "70cd6440",
   "metadata": {},
   "source": [
    "## Missing Values"
   ]
  },
  {
   "cell_type": "code",
   "execution_count": 24,
   "id": "85c9469f",
   "metadata": {},
   "outputs": [
    {
     "data": {
      "text/plain": [
       "tempo_na_empresa    False\n",
       "nivel_na_empresa    False\n",
       "salario_em_reais    False\n",
       "dtype: bool"
      ]
     },
     "execution_count": 24,
     "metadata": {},
     "output_type": "execute_result"
    }
   ],
   "source": [
    "# missing values\n",
    "df_eda.isna().any()"
   ]
  },
  {
   "cell_type": "code",
   "execution_count": 25,
   "id": "856ba02e",
   "metadata": {},
   "outputs": [
    {
     "data": {
      "text/plain": [
       "tempo_na_empresa    0\n",
       "nivel_na_empresa    0\n",
       "salario_em_reais    0\n",
       "dtype: int64"
      ]
     },
     "execution_count": 25,
     "metadata": {},
     "output_type": "execute_result"
    }
   ],
   "source": [
    "# missing values\n",
    "df_eda.isna().sum()"
   ]
  },
  {
   "cell_type": "markdown",
   "id": "9ccd8a97",
   "metadata": {},
   "source": [
    "## Outliers"
   ]
  },
  {
   "cell_type": "code",
   "execution_count": 26,
   "id": "1ebcd8a2",
   "metadata": {},
   "outputs": [
    {
     "data": {
      "image/png": "[encoded data removed]",
      "text/plain": [
       "<Figure size 1400x800 with 3 Axes>"
      ]
     },
     "metadata": {},
     "output_type": "display_data"
    }
   ],
   "source": [
    "# Box Plots\n",
    "plot_box_plot(df_eda)"
   ]
  },
  {
   "cell_type": "markdown",
   "id": "98351354",
   "metadata": {},
   "source": [
    "# Correlations"
   ]
  },
  {
   "cell_type": "code",
   "execution_count": 27,
   "id": "47bae8f2",
   "metadata": {},
   "outputs": [
    {
     "data": {
      "text/plain": [
       "'Não existem variáveis categóricas no dataset'"
      ]
     },
     "execution_count": 27,
     "metadata": {},
     "output_type": "execute_result"
    }
   ],
   "source": [
    "# Box plot correlations view\n",
    "box_plot_correlations(df_eda, target)"
   ]
  },
  {
   "cell_type": "code",
   "execution_count": 83,
   "id": "e1acdcae",
   "metadata": {},
   "outputs": [],
   "source": [
    "# Add buckets to df\n",
    "add_bucket = [('tempo_na_empresa', 10), ('salario_em_reais', 2500)]\n",
    "\n",
    "for col, bins in add_bucket:\n",
    "    df_bckt[f\"escala_{col}\"] = df_bins_bucket(df_bckt, col, bins)"
   ]
  },
  {
   "cell_type": "code",
   "execution_count": 84,
   "id": "57d5f29b",
   "metadata": {},
   "outputs": [
    {
     "data": {
      "text/html": [
       "<div>\n",
       "<style scoped>\n",
       "    .dataframe tbody tr th:only-of-type {\n",
       "        vertical-align: middle;\n",
       "    }\n",
       "\n",
       "    .dataframe tbody tr th {\n",
       "        vertical-align: top;\n",
       "    }\n",
       "\n",
       "    .dataframe thead th {\n",
       "        text-align: right;\n",
       "    }\n",
       "</style>\n",
       "<table border=\"1\" class=\"dataframe\">\n",
       "  <thead>\n",
       "    <tr style=\"text-align: right;\">\n",
       "      <th></th>\n",
       "      <th>tempo_na_empresa</th>\n",
       "      <th>nivel_na_empresa</th>\n",
       "      <th>salario_em_reais</th>\n",
       "      <th>escala_tempo_na_empresa</th>\n",
       "      <th>escala_salario_em_reais</th>\n",
       "    </tr>\n",
       "  </thead>\n",
       "  <tbody>\n",
       "    <tr>\n",
       "      <th>0</th>\n",
       "      <td>50</td>\n",
       "      <td>1</td>\n",
       "      <td>2288.13</td>\n",
       "      <td>41-50</td>\n",
       "      <td>538-3037</td>\n",
       "    </tr>\n",
       "    <tr>\n",
       "      <th>1</th>\n",
       "      <td>49</td>\n",
       "      <td>4</td>\n",
       "      <td>2389.84</td>\n",
       "      <td>41-50</td>\n",
       "      <td>538-3037</td>\n",
       "    </tr>\n",
       "    <tr>\n",
       "      <th>2</th>\n",
       "      <td>39</td>\n",
       "      <td>10</td>\n",
       "      <td>2158.73</td>\n",
       "      <td>31-40</td>\n",
       "      <td>538-3037</td>\n",
       "    </tr>\n",
       "    <tr>\n",
       "      <th>3</th>\n",
       "      <td>51</td>\n",
       "      <td>1</td>\n",
       "      <td>2341.06</td>\n",
       "      <td>41-50</td>\n",
       "      <td>538-3037</td>\n",
       "    </tr>\n",
       "    <tr>\n",
       "      <th>4</th>\n",
       "      <td>62</td>\n",
       "      <td>7</td>\n",
       "      <td>3584.20</td>\n",
       "      <td>61-70</td>\n",
       "      <td>3038-5537</td>\n",
       "    </tr>\n",
       "    <tr>\n",
       "      <th>...</th>\n",
       "      <td>...</td>\n",
       "      <td>...</td>\n",
       "      <td>...</td>\n",
       "      <td>...</td>\n",
       "      <td>...</td>\n",
       "    </tr>\n",
       "    <tr>\n",
       "      <th>995</th>\n",
       "      <td>5</td>\n",
       "      <td>10</td>\n",
       "      <td>1037.35</td>\n",
       "      <td>1-10</td>\n",
       "      <td>538-3037</td>\n",
       "    </tr>\n",
       "    <tr>\n",
       "      <th>996</th>\n",
       "      <td>7</td>\n",
       "      <td>2</td>\n",
       "      <td>668.01</td>\n",
       "      <td>1-10</td>\n",
       "      <td>538-3037</td>\n",
       "    </tr>\n",
       "    <tr>\n",
       "      <th>997</th>\n",
       "      <td>118</td>\n",
       "      <td>6</td>\n",
       "      <td>17511.13</td>\n",
       "      <td>111-120</td>\n",
       "      <td>15538-18037</td>\n",
       "    </tr>\n",
       "    <tr>\n",
       "      <th>998</th>\n",
       "      <td>94</td>\n",
       "      <td>10</td>\n",
       "      <td>8938.96</td>\n",
       "      <td>91-100</td>\n",
       "      <td>8038-10537</td>\n",
       "    </tr>\n",
       "    <tr>\n",
       "      <th>999</th>\n",
       "      <td>11</td>\n",
       "      <td>10</td>\n",
       "      <td>1231.86</td>\n",
       "      <td>1-10</td>\n",
       "      <td>538-3037</td>\n",
       "    </tr>\n",
       "  </tbody>\n",
       "</table>\n",
       "<p>1000 rows × 5 columns</p>\n",
       "</div>"
      ],
      "text/plain": [
       "     tempo_na_empresa  nivel_na_empresa  salario_em_reais  \\\n",
       "0                  50                 1           2288.13   \n",
       "1                  49                 4           2389.84   \n",
       "2                  39                10           2158.73   \n",
       "3                  51                 1           2341.06   \n",
       "4                  62                 7           3584.20   \n",
       "..                ...               ...               ...   \n",
       "995                 5                10           1037.35   \n",
       "996                 7                 2            668.01   \n",
       "997               118                 6          17511.13   \n",
       "998                94                10           8938.96   \n",
       "999                11                10           1231.86   \n",
       "\n",
       "    escala_tempo_na_empresa escala_salario_em_reais  \n",
       "0                     41-50                538-3037  \n",
       "1                     41-50                538-3037  \n",
       "2                     31-40                538-3037  \n",
       "3                     41-50                538-3037  \n",
       "4                     61-70               3038-5537  \n",
       "..                      ...                     ...  \n",
       "995                    1-10                538-3037  \n",
       "996                    1-10                538-3037  \n",
       "997                 111-120             15538-18037  \n",
       "998                  91-100              8038-10537  \n",
       "999                    1-10                538-3037  \n",
       "\n",
       "[1000 rows x 5 columns]"
      ]
     },
     "execution_count": 84,
     "metadata": {},
     "output_type": "execute_result"
    }
   ],
   "source": [
    "# View\n",
    "df_bckt"
   ]
  },
  {
   "cell_type": "code",
   "execution_count": 95,
   "id": "c4d6d24b",
   "metadata": {},
   "outputs": [
    {
     "data": {
      "text/html": [
       "<div>\n",
       "<style scoped>\n",
       "    .dataframe tbody tr th:only-of-type {\n",
       "        vertical-align: middle;\n",
       "    }\n",
       "\n",
       "    .dataframe tbody tr th {\n",
       "        vertical-align: top;\n",
       "    }\n",
       "\n",
       "    .dataframe thead th {\n",
       "        text-align: right;\n",
       "    }\n",
       "</style>\n",
       "<table border=\"1\" class=\"dataframe\">\n",
       "  <thead>\n",
       "    <tr style=\"text-align: right;\">\n",
       "      <th>escala_tempo_na_empresa</th>\n",
       "      <th>1-10</th>\n",
       "      <th>11-20</th>\n",
       "      <th>21-30</th>\n",
       "      <th>31-40</th>\n",
       "      <th>41-50</th>\n",
       "      <th>51-60</th>\n",
       "      <th>61-70</th>\n",
       "      <th>71-80</th>\n",
       "      <th>81-90</th>\n",
       "      <th>91-100</th>\n",
       "      <th>101-110</th>\n",
       "      <th>111-120</th>\n",
       "      <th>total</th>\n",
       "    </tr>\n",
       "    <tr>\n",
       "      <th>escala_salario_em_reais</th>\n",
       "      <th></th>\n",
       "      <th></th>\n",
       "      <th></th>\n",
       "      <th></th>\n",
       "      <th></th>\n",
       "      <th></th>\n",
       "      <th></th>\n",
       "      <th></th>\n",
       "      <th></th>\n",
       "      <th></th>\n",
       "      <th></th>\n",
       "      <th></th>\n",
       "      <th></th>\n",
       "    </tr>\n",
       "  </thead>\n",
       "  <tbody>\n",
       "    <tr>\n",
       "      <th>538-3037</th>\n",
       "      <td>102</td>\n",
       "      <td>70</td>\n",
       "      <td>86</td>\n",
       "      <td>82</td>\n",
       "      <td>86</td>\n",
       "      <td>52</td>\n",
       "      <td>0</td>\n",
       "      <td>0</td>\n",
       "      <td>0</td>\n",
       "      <td>0</td>\n",
       "      <td>0</td>\n",
       "      <td>0</td>\n",
       "      <td>478</td>\n",
       "    </tr>\n",
       "    <tr>\n",
       "      <th>3038-5537</th>\n",
       "      <td>0</td>\n",
       "      <td>0</td>\n",
       "      <td>0</td>\n",
       "      <td>0</td>\n",
       "      <td>0</td>\n",
       "      <td>36</td>\n",
       "      <td>81</td>\n",
       "      <td>65</td>\n",
       "      <td>0</td>\n",
       "      <td>0</td>\n",
       "      <td>0</td>\n",
       "      <td>0</td>\n",
       "      <td>182</td>\n",
       "    </tr>\n",
       "    <tr>\n",
       "      <th>5538-8037</th>\n",
       "      <td>0</td>\n",
       "      <td>0</td>\n",
       "      <td>0</td>\n",
       "      <td>0</td>\n",
       "      <td>0</td>\n",
       "      <td>0</td>\n",
       "      <td>0</td>\n",
       "      <td>27</td>\n",
       "      <td>81</td>\n",
       "      <td>8</td>\n",
       "      <td>0</td>\n",
       "      <td>0</td>\n",
       "      <td>116</td>\n",
       "    </tr>\n",
       "    <tr>\n",
       "      <th>8038-10537</th>\n",
       "      <td>0</td>\n",
       "      <td>0</td>\n",
       "      <td>0</td>\n",
       "      <td>0</td>\n",
       "      <td>0</td>\n",
       "      <td>0</td>\n",
       "      <td>0</td>\n",
       "      <td>0</td>\n",
       "      <td>4</td>\n",
       "      <td>83</td>\n",
       "      <td>0</td>\n",
       "      <td>0</td>\n",
       "      <td>87</td>\n",
       "    </tr>\n",
       "    <tr>\n",
       "      <th>10538-13037</th>\n",
       "      <td>0</td>\n",
       "      <td>0</td>\n",
       "      <td>0</td>\n",
       "      <td>0</td>\n",
       "      <td>0</td>\n",
       "      <td>0</td>\n",
       "      <td>0</td>\n",
       "      <td>0</td>\n",
       "      <td>0</td>\n",
       "      <td>3</td>\n",
       "      <td>48</td>\n",
       "      <td>0</td>\n",
       "      <td>51</td>\n",
       "    </tr>\n",
       "    <tr>\n",
       "      <th>13038-15537</th>\n",
       "      <td>0</td>\n",
       "      <td>0</td>\n",
       "      <td>0</td>\n",
       "      <td>0</td>\n",
       "      <td>0</td>\n",
       "      <td>0</td>\n",
       "      <td>0</td>\n",
       "      <td>0</td>\n",
       "      <td>0</td>\n",
       "      <td>0</td>\n",
       "      <td>22</td>\n",
       "      <td>18</td>\n",
       "      <td>40</td>\n",
       "    </tr>\n",
       "    <tr>\n",
       "      <th>15538-18037</th>\n",
       "      <td>0</td>\n",
       "      <td>0</td>\n",
       "      <td>0</td>\n",
       "      <td>0</td>\n",
       "      <td>0</td>\n",
       "      <td>0</td>\n",
       "      <td>0</td>\n",
       "      <td>0</td>\n",
       "      <td>0</td>\n",
       "      <td>0</td>\n",
       "      <td>0</td>\n",
       "      <td>34</td>\n",
       "      <td>34</td>\n",
       "    </tr>\n",
       "    <tr>\n",
       "      <th>18038-20537</th>\n",
       "      <td>0</td>\n",
       "      <td>0</td>\n",
       "      <td>0</td>\n",
       "      <td>0</td>\n",
       "      <td>0</td>\n",
       "      <td>0</td>\n",
       "      <td>0</td>\n",
       "      <td>0</td>\n",
       "      <td>0</td>\n",
       "      <td>0</td>\n",
       "      <td>0</td>\n",
       "      <td>12</td>\n",
       "      <td>12</td>\n",
       "    </tr>\n",
       "  </tbody>\n",
       "</table>\n",
       "</div>"
      ],
      "text/plain": [
       "escala_tempo_na_empresa  1-10  11-20  21-30  31-40  41-50  51-60  61-70  \\\n",
       "escala_salario_em_reais                                                   \n",
       "538-3037                  102     70     86     82     86     52      0   \n",
       "3038-5537                   0      0      0      0      0     36     81   \n",
       "5538-8037                   0      0      0      0      0      0      0   \n",
       "8038-10537                  0      0      0      0      0      0      0   \n",
       "10538-13037                 0      0      0      0      0      0      0   \n",
       "13038-15537                 0      0      0      0      0      0      0   \n",
       "15538-18037                 0      0      0      0      0      0      0   \n",
       "18038-20537                 0      0      0      0      0      0      0   \n",
       "\n",
       "escala_tempo_na_empresa  71-80  81-90  91-100  101-110  111-120  total  \n",
       "escala_salario_em_reais                                                 \n",
       "538-3037                     0      0       0        0        0    478  \n",
       "3038-5537                   65      0       0        0        0    182  \n",
       "5538-8037                   27     81       8        0        0    116  \n",
       "8038-10537                   0      4      83        0        0     87  \n",
       "10538-13037                  0      0       3       48        0     51  \n",
       "13038-15537                  0      0       0       22       18     40  \n",
       "15538-18037                  0      0       0        0       34     34  \n",
       "18038-20537                  0      0       0        0       12     12  "
      ]
     },
     "metadata": {},
     "output_type": "display_data"
    }
   ],
   "source": [
    "# Crosstab\n",
    "for col in df_bckt.select_dtypes(include=[object, 'category']).columns.drop(f\"escala_{target}\"):\n",
    "    frequencia = pd.crosstab(df_bckt[f\"escala_{target}\"],df_bckt[col], normalize=False)\n",
    "    frequencia['total'] = frequencia.sum(axis=1)\n",
    "    display(frequencia) if col != target else display()"
   ]
  },
  {
   "cell_type": "code",
   "execution_count": 97,
   "id": "7b2afda0",
   "metadata": {},
   "outputs": [],
   "source": [
    "# Tabela de frequência relativa\n",
    "\n",
    "def numeric_frequency_table(col, normalize, len_bins):\n",
    "\n",
    "    # Calculate range bins and labels\n",
    "    min_value, max_value = int(df_bckt[target].min()), int(df_bckt[target].max())\n",
    "    bins = list(np.arange(min_value, max_value + len_bins, len_bins))\n",
    "    label_bins = [f\"{bins[i]}-{bins[i+1] - 1}\" for i in range(len(bins) - 1)]\n",
    "\n",
    "    # Create table\n",
    "    freq_table = pd.value_counts(\n",
    "        pd.cut(\n",
    "            x=df_bckt[target],\n",
    "            bins=bins,\n",
    "            labels=label_bins,\n",
    "            include_lowest=True\n",
    "        ), normalize=normalize\n",
    "    )\n",
    "    \n",
    "    return freq_table"
   ]
  },
  {
   "cell_type": "code",
   "execution_count": 101,
   "id": "f5cd9e6b",
   "metadata": {},
   "outputs": [
    {
     "data": {
      "text/plain": [
       "538-3037       478\n",
       "3038-5537      182\n",
       "5538-8037      116\n",
       "8038-10537      87\n",
       "10538-13037     51\n",
       "13038-15537     40\n",
       "15538-18037     34\n",
       "18038-20537     12\n",
       "Name: salario_em_reais, dtype: int64"
      ]
     },
     "execution_count": 101,
     "metadata": {},
     "output_type": "execute_result"
    }
   ],
   "source": [
    "numeric_frequency_table(col, False, 2500)"
   ]
  },
  {
   "cell_type": "code",
   "execution_count": 30,
   "id": "c0bf204f",
   "metadata": {
    "scrolled": false
   },
   "outputs": [
    {
     "data": {
      "image/png": "[encoded data removed]",
      "text/plain": [
       "<Figure size 900x425 with 1 Axes>"
      ]
     },
     "metadata": {},
     "output_type": "display_data"
    }
   ],
   "source": [
    "# Plot correlations between target and buckets\n",
    "box_plot_corr_bucket(df_bckt, target)"
   ]
  },
  {
   "cell_type": "code",
   "execution_count": 31,
   "id": "710aec4a",
   "metadata": {},
   "outputs": [
    {
     "data": {
      "image/png": "[encoded data removed]",
      "text/plain": [
       "<Figure size 900x600 with 12 Axes>"
      ]
     },
     "metadata": {},
     "output_type": "display_data"
    }
   ],
   "source": [
    "# pairplot\n",
    "pairplot_correlations(df_eda)"
   ]
  },
  {
   "cell_type": "code",
   "execution_count": 32,
   "id": "29929332",
   "metadata": {},
   "outputs": [
    {
     "data": {
      "image/png": "[encoded data removed]",
      "text/plain": [
       "<Figure size 1500x800 with 2 Axes>"
      ]
     },
     "metadata": {},
     "output_type": "display_data"
    }
   ],
   "source": [
    "# heatmap\n",
    "heatmap_correlations(df_eda, 'spearman')"
   ]
  },
  {
   "cell_type": "code",
   "execution_count": 33,
   "id": "bcb38238",
   "metadata": {},
   "outputs": [],
   "source": [
    "# Correlations with dummies features\n",
    "\n",
    "# One Hot encoding for categorical features\n",
    "#df_eda_dummies = pd.get_dummies(df_eda, columns=['grupo_sanguineo', 'fumante'], dtype='int')\n",
    "\n",
    "# Ordinal encoding for categorical ordinal features\n",
    "#df_eda_dummies['nivel_de_atividade'] = pd.factorize(df_eda_dummies['nivel_de_atividade'])[0] + 1\n",
    "\n",
    "# View heatmap\n",
    "#heatmap_correlations(df_eda_dummies)"
   ]
  },
  {
   "cell_type": "code",
   "execution_count": 34,
   "id": "69073584",
   "metadata": {},
   "outputs": [
    {
     "data": {
      "image/png": "[encoded data removed]",
      "text/plain": [
       "<Figure size 1000x800 with 2 Axes>"
      ]
     },
     "metadata": {},
     "output_type": "display_data"
    }
   ],
   "source": [
    "# target correlations ranking\n",
    "heatmap_corr_sorted(df_eda, target, 'spearman')"
   ]
  },
  {
   "cell_type": "code",
   "execution_count": 35,
   "id": "57bb6175",
   "metadata": {},
   "outputs": [],
   "source": [
    "# features independence (chi2)"
   ]
  },
  {
   "cell_type": "code",
   "execution_count": 36,
   "id": "88933aa0",
   "metadata": {},
   "outputs": [],
   "source": [
    "# box plot bucketing - target vs features"
   ]
  },
  {
   "cell_type": "markdown",
   "id": "28b93096",
   "metadata": {},
   "source": [
    "# Distribuições"
   ]
  },
  {
   "cell_type": "code",
   "execution_count": 70,
   "id": "9390da85",
   "metadata": {},
   "outputs": [
    {
     "name": "stdout",
     "output_type": "stream",
     "text": [
      "escala_tempo_na_empresa\n",
      "1-10       102\n",
      "91-100      94\n",
      "71-80       92\n",
      "51-60       88\n",
      "21-30       86\n",
      "41-50       86\n",
      "81-90       85\n",
      "31-40       82\n",
      "61-70       81\n",
      "11-20       70\n",
      "101-110     70\n",
      "111-120     64\n",
      "dtype: int64\n",
      "\n"
     ]
    }
   ],
   "source": [
    "# Count bucket features\n",
    "for col in df_bckt.select_dtypes(include=[object, 'category']).columns:\n",
    "    print(f\"{df_bckt.select_dtypes(include=[object, 'category']).value_counts(col)}\\n\") if 'escala' in col else print()"
   ]
  },
  {
   "cell_type": "code",
   "execution_count": 37,
   "id": "534a3c37",
   "metadata": {},
   "outputs": [],
   "source": [
    "# distribuitions plots (histogram + boxplot) - normality check for numeric features"
   ]
  },
  {
   "cell_type": "code",
   "execution_count": 38,
   "id": "c8edb683",
   "metadata": {},
   "outputs": [],
   "source": [
    "# statistical tests (normality, independency) - visual and quatitative tests"
   ]
  },
  {
   "cell_type": "code",
   "execution_count": 39,
   "id": "0e1b3ae1",
   "metadata": {},
   "outputs": [],
   "source": [
    "# sweet viz (automate eda)"
   ]
  },
  {
   "cell_type": "markdown",
   "id": "8e91ca1e",
   "metadata": {},
   "source": [
    "---"
   ]
  },
  {
   "cell_type": "markdown",
   "id": "a333120c",
   "metadata": {},
   "source": [
    "# <font size=6>Data Wrangling"
   ]
  },
  {
   "cell_type": "markdown",
   "id": "3dcc34b9",
   "metadata": {},
   "source": [
    "## Domain"
   ]
  },
  {
   "cell_type": "code",
   "execution_count": 40,
   "id": "5f006b36",
   "metadata": {},
   "outputs": [],
   "source": [
    "# Fix age problem"
   ]
  },
  {
   "cell_type": "markdown",
   "id": "892c97f3",
   "metadata": {},
   "source": [
    "## Types"
   ]
  },
  {
   "cell_type": "code",
   "execution_count": 41,
   "id": "3ab2d098",
   "metadata": {},
   "outputs": [],
   "source": [
    "# Idade e altura: float > int"
   ]
  },
  {
   "cell_type": "markdown",
   "id": "3d2305de",
   "metadata": {},
   "source": [
    "## Missing values"
   ]
  },
  {
   "cell_type": "code",
   "execution_count": 42,
   "id": "c946ac0f",
   "metadata": {},
   "outputs": [],
   "source": [
    "# Mean input\n",
    "\n",
    "# Median input\n",
    "\n",
    "# Mode input"
   ]
  },
  {
   "cell_type": "markdown",
   "id": "3140e06c",
   "metadata": {},
   "source": [
    "## Outliers"
   ]
  },
  {
   "cell_type": "code",
   "execution_count": null,
   "id": "06dfa656",
   "metadata": {},
   "outputs": [],
   "source": []
  },
  {
   "cell_type": "markdown",
   "id": "ad2b9a50",
   "metadata": {},
   "source": [
    "## Target balance"
   ]
  },
  {
   "cell_type": "code",
   "execution_count": null,
   "id": "f722bfd8",
   "metadata": {},
   "outputs": [],
   "source": []
  },
  {
   "cell_type": "markdown",
   "id": "2be2b4eb",
   "metadata": {},
   "source": [
    "## Format transform (normality)"
   ]
  },
  {
   "cell_type": "code",
   "execution_count": null,
   "id": "c02ad8e4",
   "metadata": {},
   "outputs": [],
   "source": []
  },
  {
   "cell_type": "markdown",
   "id": "fdef9eb9",
   "metadata": {},
   "source": [
    "---"
   ]
  },
  {
   "cell_type": "markdown",
   "id": "251d514b",
   "metadata": {},
   "source": [
    "# <font size=6>Features Engeneering"
   ]
  },
  {
   "cell_type": "markdown",
   "id": "76493221",
   "metadata": {},
   "source": [
    "## Splits"
   ]
  },
  {
   "cell_type": "code",
   "execution_count": 43,
   "id": "d3d7b10e",
   "metadata": {},
   "outputs": [],
   "source": [
    "# split data into X and y"
   ]
  },
  {
   "cell_type": "code",
   "execution_count": 44,
   "id": "5e6a0bfc",
   "metadata": {},
   "outputs": [],
   "source": [
    "# split the data into training and testing or pass if cross validation"
   ]
  },
  {
   "cell_type": "code",
   "execution_count": 45,
   "id": "9cbcc834",
   "metadata": {},
   "outputs": [],
   "source": [
    "# numeric features list\n",
    "\n",
    "# categorical ordinal list\n",
    "\n",
    "# categorical qualitative list"
   ]
  },
  {
   "cell_type": "markdown",
   "id": "af3dade4",
   "metadata": {},
   "source": [
    "## Scalers"
   ]
  },
  {
   "cell_type": "code",
   "execution_count": 46,
   "id": "2cc0fc64",
   "metadata": {},
   "outputs": [],
   "source": [
    "# polinomial add if required"
   ]
  },
  {
   "cell_type": "code",
   "execution_count": 47,
   "id": "ac987601",
   "metadata": {},
   "outputs": [],
   "source": [
    "# scalers"
   ]
  },
  {
   "cell_type": "markdown",
   "id": "81cbbf17",
   "metadata": {},
   "source": [
    "## Pipelines"
   ]
  },
  {
   "cell_type": "code",
   "execution_count": 48,
   "id": "d1599fff",
   "metadata": {},
   "outputs": [],
   "source": [
    "# pipeline transformers\n",
    "\n",
    "# processor transformers"
   ]
  },
  {
   "cell_type": "markdown",
   "id": "671fb384",
   "metadata": {},
   "source": [
    "## Features Selection"
   ]
  },
  {
   "cell_type": "code",
   "execution_count": 49,
   "id": "b7f2ffe3",
   "metadata": {},
   "outputs": [],
   "source": [
    "# Univar, RFE, SelectBest, chi2, pps + corr, test t for means, coef linear regression"
   ]
  },
  {
   "cell_type": "code",
   "execution_count": 50,
   "id": "a346e375",
   "metadata": {},
   "outputs": [],
   "source": [
    "# final features"
   ]
  },
  {
   "cell_type": "markdown",
   "id": "96969676",
   "metadata": {},
   "source": [
    "---"
   ]
  },
  {
   "cell_type": "markdown",
   "id": "adbe692d",
   "metadata": {},
   "source": [
    "# <font size=6>Fit Models"
   ]
  },
  {
   "cell_type": "code",
   "execution_count": 51,
   "id": "7c308bdc",
   "metadata": {},
   "outputs": [],
   "source": [
    "# polinomial check, k neighbohor elbow curve, ... \n",
    "# fit models in looop to check overfitting (k no knn, max_feature em árvores) - learnig curve"
   ]
  },
  {
   "cell_type": "markdown",
   "id": "a79b422b",
   "metadata": {},
   "source": [
    "## Base Line Models with Train Test Split"
   ]
  },
  {
   "cell_type": "code",
   "execution_count": 52,
   "id": "45a0b138",
   "metadata": {},
   "outputs": [],
   "source": [
    "# fit"
   ]
  },
  {
   "cell_type": "markdown",
   "id": "9100e6e7",
   "metadata": {},
   "source": [
    "## Models with CrossVal and StratifiedKFold"
   ]
  },
  {
   "cell_type": "code",
   "execution_count": 53,
   "id": "d8ed7382",
   "metadata": {},
   "outputs": [],
   "source": [
    "# fit"
   ]
  },
  {
   "cell_type": "markdown",
   "id": "e0234e51",
   "metadata": {},
   "source": [
    "## Models with CrossVal, StratifiedKFold and Best Features"
   ]
  },
  {
   "cell_type": "code",
   "execution_count": 54,
   "id": "a1a69618",
   "metadata": {},
   "outputs": [],
   "source": [
    "# fit"
   ]
  },
  {
   "cell_type": "markdown",
   "id": "4379a62c",
   "metadata": {},
   "source": [
    "---"
   ]
  },
  {
   "cell_type": "markdown",
   "id": "4c9e4f11",
   "metadata": {},
   "source": [
    "# <font size=6> Validate Models"
   ]
  },
  {
   "cell_type": "code",
   "execution_count": 55,
   "id": "b7545cdd",
   "metadata": {},
   "outputs": [],
   "source": [
    "# predictions with validation data"
   ]
  },
  {
   "cell_type": "code",
   "execution_count": 56,
   "id": "1b4a5310",
   "metadata": {},
   "outputs": [],
   "source": [
    "# metrics"
   ]
  },
  {
   "cell_type": "code",
   "execution_count": 57,
   "id": "666351a9",
   "metadata": {},
   "outputs": [],
   "source": [
    "# residual analisys if required"
   ]
  },
  {
   "cell_type": "code",
   "execution_count": 58,
   "id": "47465ddf",
   "metadata": {},
   "outputs": [],
   "source": [
    "# statistical tests if required"
   ]
  },
  {
   "cell_type": "markdown",
   "id": "6a626236",
   "metadata": {},
   "source": [
    "---"
   ]
  },
  {
   "cell_type": "markdown",
   "id": "6d54cdc9",
   "metadata": {},
   "source": [
    "# <font size=6> Hyperparameters Tuning"
   ]
  },
  {
   "cell_type": "code",
   "execution_count": 59,
   "id": "7f793f65",
   "metadata": {},
   "outputs": [],
   "source": [
    "# optuna, grid search, random serach"
   ]
  },
  {
   "cell_type": "code",
   "execution_count": 60,
   "id": "7b6a78b0",
   "metadata": {},
   "outputs": [],
   "source": [
    "# validation"
   ]
  },
  {
   "cell_type": "code",
   "execution_count": 61,
   "id": "9c4ac7e1",
   "metadata": {},
   "outputs": [],
   "source": [
    "# new predictions"
   ]
  },
  {
   "cell_type": "code",
   "execution_count": 62,
   "id": "1606c0e9",
   "metadata": {},
   "outputs": [],
   "source": [
    "# re-tuning if necessary"
   ]
  },
  {
   "cell_type": "code",
   "execution_count": 63,
   "id": "926acf26",
   "metadata": {},
   "outputs": [],
   "source": [
    "# predictions with test data"
   ]
  },
  {
   "cell_type": "code",
   "execution_count": 64,
   "id": "51232d02",
   "metadata": {},
   "outputs": [],
   "source": [
    "# predictions with new data - just for fun"
   ]
  },
  {
   "cell_type": "markdown",
   "id": "6ca5780a",
   "metadata": {},
   "source": [
    "---"
   ]
  },
  {
   "cell_type": "markdown",
   "id": "a86dd439",
   "metadata": {},
   "source": [
    "# <font size=6> Save Model"
   ]
  },
  {
   "cell_type": "code",
   "execution_count": 65,
   "id": "2608c3df",
   "metadata": {},
   "outputs": [],
   "source": [
    "# save best model"
   ]
  },
  {
   "cell_type": "markdown",
   "id": "0479c8e1",
   "metadata": {},
   "source": [
    "---"
   ]
  },
  {
   "cell_type": "markdown",
   "id": "d25026b1",
   "metadata": {},
   "source": [
    "# <font size=6>Deployment"
   ]
  },
  {
   "cell_type": "code",
   "execution_count": null,
   "id": "6378a6ee",
   "metadata": {},
   "outputs": [],
   "source": []
  },
  {
   "cell_type": "markdown",
   "id": "a5e6d3ff",
   "metadata": {},
   "source": [
    "---"
   ]
  }
 ],
 "metadata": {
  "kernelspec": {
   "display_name": "Python 3 (ipykernel)",
   "language": "python",
   "name": "python3"
  },
  "language_info": {
   "codemirror_mode": {
    "name": "ipython",
    "version": 3
   },
   "file_extension": ".py",
   "mimetype": "text/x-python",
   "name": "python",
   "nbconvert_exporter": "python",
   "pygments_lexer": "ipython3",
   "version": "3.9.13"
  }
 },
 "nbformat": 4,
 "nbformat_minor": 5
}
