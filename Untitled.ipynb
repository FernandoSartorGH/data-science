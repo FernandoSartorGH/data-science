{
 "cells": [
  {
   "cell_type": "code",
   "execution_count": null,
   "id": "dde6654f",
   "metadata": {},
   "outputs": [],
   "source": []
  },
  {
   "cell_type": "code",
   "execution_count": null,
   "id": "1c2faedc",
   "metadata": {},
   "outputs": [],
   "source": []
  },
  {
   "cell_type": "code",
   "execution_count": null,
   "id": "de6ec05d",
   "metadata": {},
   "outputs": [],
   "source": []
  },
  {
   "cell_type": "code",
   "execution_count": 9,
   "id": "f8de3711",
   "metadata": {},
   "outputs": [],
   "source": [
    "columns={\n",
    "        'ROTA': 'Rota',\n",
    "        'DIA': 'Dia',\n",
    "        'CIDADE': 'Cidade',\n",
    "        'CLIENTE': 'Cliente',\n",
    "        'PRODUTO': 'Produto',\n",
    "        'CAPACIDADE': 'Capacidade',\n",
    "        'ESTOQUE': 'Estoque',\n",
    "        'Estoque calculado': 'Estoque calculado',\n",
    "        'Estoque mínimo': 'Estoque mínimo',\n",
    "        2023: 'Ano base',\n",
    "        'VAR': 'Variação %',\n",
    "        'VAR_AC': 'Variação Acumulada',\n",
    "        'Previsto': 'Previsto',\n",
    "        2024: 'Ano atual',\n",
    "        'R1': 'R1',\n",
    "        'R2': 'R2',\n",
    "        'R3': 'R3',\n",
    "        'R4': 'R4',\n",
    "        'R5': 'R5',\n",
    "        'S1': 'S1',\n",
    "        'S2': 'S2',\n",
    "        'S3': 'S3',\n",
    "        'S4': 'S4',\n",
    "        'S5': 'S5',\n",
    "        'Saldo': 'Saldo',\n",
    "        'Saldo Semana': 'Saldo Semana'\n",
    "    }"
   ]
  },
  {
   "cell_type": "code",
   "execution_count": 10,
   "id": "4eb4fed3",
   "metadata": {},
   "outputs": [
    {
     "data": {
      "text/plain": [
       "['ROTA',\n",
       " 'DIA',\n",
       " 'CIDADE',\n",
       " 'CLIENTE',\n",
       " 'PRODUTO',\n",
       " 'CAPACIDADE',\n",
       " 'ESTOQUE',\n",
       " 'Estoque calculado',\n",
       " 'Estoque mínimo',\n",
       " 2023,\n",
       " 'VAR',\n",
       " 'VAR_AC',\n",
       " 'Previsto',\n",
       " 2024,\n",
       " 'R1',\n",
       " 'R2',\n",
       " 'R3',\n",
       " 'R4',\n",
       " 'R5',\n",
       " 'S1',\n",
       " 'S2',\n",
       " 'S3',\n",
       " 'S4',\n",
       " 'S5',\n",
       " 'Saldo',\n",
       " 'Saldo Semana']"
      ]
     },
     "execution_count": 10,
     "metadata": {},
     "output_type": "execute_result"
    }
   ],
   "source": [
    "[item for item in columns]"
   ]
  },
  {
   "cell_type": "code",
   "execution_count": null,
   "id": "f1f031c3",
   "metadata": {},
   "outputs": [],
   "source": []
  }
 ],
 "metadata": {
  "kernelspec": {
   "display_name": "Python 3 (ipykernel)",
   "language": "python",
   "name": "python3"
  },
  "language_info": {
   "codemirror_mode": {
    "name": "ipython",
    "version": 3
   },
   "file_extension": ".py",
   "mimetype": "text/x-python",
   "name": "python",
   "nbconvert_exporter": "python",
   "pygments_lexer": "ipython3",
   "version": "3.9.13"
  }
 },
 "nbformat": 4,
 "nbformat_minor": 5
}
