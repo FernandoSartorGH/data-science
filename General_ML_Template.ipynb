{
 "cells": [
  {
   "cell_type": "markdown",
   "id": "dba51a7a",
   "metadata": {},
   "source": [
    "# "
   ]
  },
  {
   "cell_type": "markdown",
   "id": "89bc10e1",
   "metadata": {},
   "source": [
    "# <font size=10>Template Machine Learning</font>"
   ]
  },
  {
   "cell_type": "markdown",
   "id": "d5403a7f",
   "metadata": {},
   "source": [
    "# "
   ]
  },
  {
   "cell_type": "markdown",
   "id": "597ab579",
   "metadata": {},
   "source": [
    "# <font size=6>Project Description</font>"
   ]
  },
  {
   "cell_type": "code",
   "execution_count": null,
   "id": "9b971ec0",
   "metadata": {},
   "outputs": [],
   "source": [
    "# description"
   ]
  },
  {
   "cell_type": "markdown",
   "id": "0a82130f",
   "metadata": {},
   "source": [
    "# Data"
   ]
  },
  {
   "cell_type": "code",
   "execution_count": null,
   "id": "e639b15c",
   "metadata": {},
   "outputs": [],
   "source": [
    "# Describe, legends, source"
   ]
  },
  {
   "cell_type": "markdown",
   "id": "34f5c668",
   "metadata": {},
   "source": [
    "---"
   ]
  },
  {
   "cell_type": "markdown",
   "id": "1b85967e",
   "metadata": {},
   "source": [
    "## <font size=6>Imports"
   ]
  },
  {
   "cell_type": "code",
   "execution_count": null,
   "id": "2802a3c4",
   "metadata": {},
   "outputs": [],
   "source": [
    "# EDA\n",
    "\n",
    "# Plots\n",
    "\n",
    "# Scalers\n",
    "\n",
    "# Split\n",
    "\n",
    "# Features engeneering\n",
    "\n",
    "# Transform\n",
    "\n",
    "# Pipelines\n",
    "\n",
    "# Models"
   ]
  },
  {
   "cell_type": "markdown",
   "id": "e64a05de",
   "metadata": {},
   "source": [
    "---"
   ]
  },
  {
   "cell_type": "markdown",
   "id": "739a6726",
   "metadata": {},
   "source": [
    "## <font size=6>Load Data"
   ]
  },
  {
   "cell_type": "code",
   "execution_count": null,
   "id": "c1d583ae",
   "metadata": {},
   "outputs": [],
   "source": [
    "# load"
   ]
  },
  {
   "cell_type": "code",
   "execution_count": null,
   "id": "d0c0ebf3",
   "metadata": {},
   "outputs": [],
   "source": [
    "# eda data set"
   ]
  },
  {
   "cell_type": "code",
   "execution_count": null,
   "id": "5294c749",
   "metadata": {},
   "outputs": [],
   "source": [
    "# work dataset"
   ]
  },
  {
   "cell_type": "code",
   "execution_count": null,
   "id": "0330f818",
   "metadata": {},
   "outputs": [],
   "source": [
    "# preview"
   ]
  },
  {
   "cell_type": "markdown",
   "id": "9f1f5e18",
   "metadata": {},
   "source": [
    "---"
   ]
  },
  {
   "cell_type": "markdown",
   "id": "4f927aa0",
   "metadata": {},
   "source": [
    "# <font size=6>Exploratory Data Analisys - EDA"
   ]
  },
  {
   "cell_type": "code",
   "execution_count": null,
   "id": "827a96d7",
   "metadata": {},
   "outputs": [],
   "source": [
    "# shape"
   ]
  },
  {
   "cell_type": "code",
   "execution_count": null,
   "id": "ee48bacc",
   "metadata": {},
   "outputs": [],
   "source": [
    "# types"
   ]
  },
  {
   "cell_type": "code",
   "execution_count": null,
   "id": "2e9c2e94",
   "metadata": {},
   "outputs": [],
   "source": [
    "# uniques"
   ]
  },
  {
   "cell_type": "code",
   "execution_count": null,
   "id": "46cb14e6",
   "metadata": {},
   "outputs": [],
   "source": [
    "# target balance (for classification)"
   ]
  },
  {
   "cell_type": "code",
   "execution_count": null,
   "id": "856ba02e",
   "metadata": {},
   "outputs": [],
   "source": [
    "# missing values"
   ]
  },
  {
   "cell_type": "code",
   "execution_count": null,
   "id": "a51b7b6f",
   "metadata": {},
   "outputs": [],
   "source": [
    "# numeric describe"
   ]
  },
  {
   "cell_type": "code",
   "execution_count": null,
   "id": "445b55cb",
   "metadata": {},
   "outputs": [],
   "source": [
    "# categorical describe"
   ]
  },
  {
   "cell_type": "code",
   "execution_count": null,
   "id": "c1e64fbd",
   "metadata": {},
   "outputs": [],
   "source": [
    "# crosstab categorical features"
   ]
  },
  {
   "cell_type": "code",
   "execution_count": null,
   "id": "fd40b9ee",
   "metadata": {},
   "outputs": [],
   "source": [
    "# outliers"
   ]
  },
  {
   "cell_type": "code",
   "execution_count": null,
   "id": "710aec4a",
   "metadata": {},
   "outputs": [],
   "source": [
    "# correlations - pairplot/heatmap -- Pearson/xxx"
   ]
  },
  {
   "cell_type": "code",
   "execution_count": null,
   "id": "69073584",
   "metadata": {},
   "outputs": [],
   "source": [
    "# target correlations ranking"
   ]
  },
  {
   "cell_type": "code",
   "execution_count": null,
   "id": "57bb6175",
   "metadata": {},
   "outputs": [],
   "source": [
    "# features independence (chi2)"
   ]
  },
  {
   "cell_type": "code",
   "execution_count": null,
   "id": "247c5250",
   "metadata": {},
   "outputs": [],
   "source": [
    "# box plot - target vs features"
   ]
  },
  {
   "cell_type": "code",
   "execution_count": null,
   "id": "88933aa0",
   "metadata": {},
   "outputs": [],
   "source": [
    "# box plot bucketing - target vs features"
   ]
  },
  {
   "cell_type": "code",
   "execution_count": null,
   "id": "beeadc2c",
   "metadata": {},
   "outputs": [],
   "source": [
    "# distribuitions plots (histogram + boxplot) - normality check for numeric features"
   ]
  },
  {
   "cell_type": "code",
   "execution_count": null,
   "id": "c8edb683",
   "metadata": {},
   "outputs": [],
   "source": [
    "# statistical tests (normality, independency) - visual and quatitative tests"
   ]
  },
  {
   "cell_type": "code",
   "execution_count": null,
   "id": "0e1b3ae1",
   "metadata": {},
   "outputs": [],
   "source": [
    "# sweet viz (automate eda)"
   ]
  },
  {
   "cell_type": "markdown",
   "id": "8e91ca1e",
   "metadata": {},
   "source": [
    "---"
   ]
  },
  {
   "cell_type": "markdown",
   "id": "a333120c",
   "metadata": {},
   "source": [
    "# <font size=6>Data Wrangling"
   ]
  },
  {
   "cell_type": "code",
   "execution_count": null,
   "id": "a74574cc",
   "metadata": {},
   "outputs": [],
   "source": [
    "# domain - min max"
   ]
  },
  {
   "cell_type": "code",
   "execution_count": null,
   "id": "a90a49c8",
   "metadata": {},
   "outputs": [],
   "source": [
    "# types"
   ]
  },
  {
   "cell_type": "code",
   "execution_count": null,
   "id": "85b80aab",
   "metadata": {},
   "outputs": [],
   "source": [
    "# missing values"
   ]
  },
  {
   "cell_type": "code",
   "execution_count": null,
   "id": "523c78ca",
   "metadata": {},
   "outputs": [],
   "source": [
    "# outliers"
   ]
  },
  {
   "cell_type": "code",
   "execution_count": null,
   "id": "e06e81fa",
   "metadata": {},
   "outputs": [],
   "source": [
    "# target balance"
   ]
  },
  {
   "cell_type": "code",
   "execution_count": null,
   "id": "41ef2ea5",
   "metadata": {},
   "outputs": [],
   "source": [
    "# format transform (normality)"
   ]
  },
  {
   "cell_type": "markdown",
   "id": "fdef9eb9",
   "metadata": {},
   "source": [
    "---"
   ]
  },
  {
   "cell_type": "markdown",
   "id": "251d514b",
   "metadata": {},
   "source": [
    "# <font size=6>Features Engeneering"
   ]
  },
  {
   "cell_type": "markdown",
   "id": "76493221",
   "metadata": {},
   "source": [
    "## Splits"
   ]
  },
  {
   "cell_type": "code",
   "execution_count": null,
   "id": "d3d7b10e",
   "metadata": {},
   "outputs": [],
   "source": [
    "# split data into X and y"
   ]
  },
  {
   "cell_type": "code",
   "execution_count": null,
   "id": "5e6a0bfc",
   "metadata": {},
   "outputs": [],
   "source": [
    "# split the data into training and testing or pass if cross validation"
   ]
  },
  {
   "cell_type": "code",
   "execution_count": null,
   "id": "9cbcc834",
   "metadata": {},
   "outputs": [],
   "source": [
    "# numeric features list\n",
    "\n",
    "# categorical ordinal list\n",
    "\n",
    "# categorical qualitative list"
   ]
  },
  {
   "cell_type": "markdown",
   "id": "af3dade4",
   "metadata": {},
   "source": [
    "## Scalers"
   ]
  },
  {
   "cell_type": "code",
   "execution_count": null,
   "id": "2cc0fc64",
   "metadata": {},
   "outputs": [],
   "source": [
    "# polinomial add if required"
   ]
  },
  {
   "cell_type": "code",
   "execution_count": null,
   "id": "ac987601",
   "metadata": {},
   "outputs": [],
   "source": [
    "# scalers"
   ]
  },
  {
   "cell_type": "markdown",
   "id": "81cbbf17",
   "metadata": {},
   "source": [
    "## Pipelines"
   ]
  },
  {
   "cell_type": "code",
   "execution_count": null,
   "id": "d1599fff",
   "metadata": {},
   "outputs": [],
   "source": [
    "# pipeline transformers\n",
    "\n",
    "# processor transformers"
   ]
  },
  {
   "cell_type": "markdown",
   "id": "671fb384",
   "metadata": {},
   "source": [
    "## Features Selection"
   ]
  },
  {
   "cell_type": "code",
   "execution_count": null,
   "id": "b7f2ffe3",
   "metadata": {},
   "outputs": [],
   "source": [
    "# Univar, RFE, SelectBest, chi2, pps + corr, test t for means, coef linear regression"
   ]
  },
  {
   "cell_type": "code",
   "execution_count": null,
   "id": "a346e375",
   "metadata": {},
   "outputs": [],
   "source": [
    "# final features"
   ]
  },
  {
   "cell_type": "markdown",
   "id": "96969676",
   "metadata": {},
   "source": [
    "---"
   ]
  },
  {
   "cell_type": "markdown",
   "id": "adbe692d",
   "metadata": {},
   "source": [
    "# <font size=6>Fit Models"
   ]
  },
  {
   "cell_type": "code",
   "execution_count": null,
   "id": "7c308bdc",
   "metadata": {},
   "outputs": [],
   "source": [
    "# polinomial check, k neighbohor elbow curve, ... \n",
    "# fit models in looop to check overfitting (k no knn, max_feature em árvores) - learnig curve"
   ]
  },
  {
   "cell_type": "markdown",
   "id": "a79b422b",
   "metadata": {},
   "source": [
    "## Base Line Models with Train Test Split"
   ]
  },
  {
   "cell_type": "code",
   "execution_count": null,
   "id": "45a0b138",
   "metadata": {},
   "outputs": [],
   "source": [
    "# fit"
   ]
  },
  {
   "cell_type": "markdown",
   "id": "9100e6e7",
   "metadata": {},
   "source": [
    "## Models with CrossVal and StratifiedKFold"
   ]
  },
  {
   "cell_type": "code",
   "execution_count": null,
   "id": "d8ed7382",
   "metadata": {},
   "outputs": [],
   "source": [
    "# fit"
   ]
  },
  {
   "cell_type": "markdown",
   "id": "e0234e51",
   "metadata": {},
   "source": [
    "## Models with CrossVal, StratifiedKFold and Best Features"
   ]
  },
  {
   "cell_type": "code",
   "execution_count": 1,
   "id": "a1a69618",
   "metadata": {},
   "outputs": [],
   "source": [
    "# fit"
   ]
  },
  {
   "cell_type": "markdown",
   "id": "4379a62c",
   "metadata": {},
   "source": [
    "---"
   ]
  },
  {
   "cell_type": "markdown",
   "id": "4c9e4f11",
   "metadata": {},
   "source": [
    "# <font size=6> Validate Models"
   ]
  },
  {
   "cell_type": "code",
   "execution_count": null,
   "id": "b7545cdd",
   "metadata": {},
   "outputs": [],
   "source": [
    "# predictions with validation data"
   ]
  },
  {
   "cell_type": "code",
   "execution_count": null,
   "id": "1b4a5310",
   "metadata": {},
   "outputs": [],
   "source": [
    "# metrics"
   ]
  },
  {
   "cell_type": "code",
   "execution_count": null,
   "id": "666351a9",
   "metadata": {},
   "outputs": [],
   "source": [
    "# residual analisys if required"
   ]
  },
  {
   "cell_type": "code",
   "execution_count": null,
   "id": "47465ddf",
   "metadata": {},
   "outputs": [],
   "source": [
    "# statistical tests if required"
   ]
  },
  {
   "cell_type": "markdown",
   "id": "6a626236",
   "metadata": {},
   "source": [
    "---"
   ]
  },
  {
   "cell_type": "markdown",
   "id": "6d54cdc9",
   "metadata": {},
   "source": [
    "# <font size=6> Hyperparameters Tuning"
   ]
  },
  {
   "cell_type": "code",
   "execution_count": null,
   "id": "7f793f65",
   "metadata": {},
   "outputs": [],
   "source": [
    "# optuna, grid search, random serach"
   ]
  },
  {
   "cell_type": "code",
   "execution_count": null,
   "id": "7b6a78b0",
   "metadata": {},
   "outputs": [],
   "source": [
    "# validation"
   ]
  },
  {
   "cell_type": "code",
   "execution_count": null,
   "id": "9c4ac7e1",
   "metadata": {},
   "outputs": [],
   "source": [
    "# new predictions"
   ]
  },
  {
   "cell_type": "code",
   "execution_count": null,
   "id": "1606c0e9",
   "metadata": {},
   "outputs": [],
   "source": [
    "# re-tuning if necessary"
   ]
  },
  {
   "cell_type": "code",
   "execution_count": null,
   "id": "926acf26",
   "metadata": {},
   "outputs": [],
   "source": [
    "# predictions with test data"
   ]
  },
  {
   "cell_type": "code",
   "execution_count": null,
   "id": "51232d02",
   "metadata": {},
   "outputs": [],
   "source": [
    "# predictions with new data - just for fun"
   ]
  },
  {
   "cell_type": "markdown",
   "id": "6ca5780a",
   "metadata": {},
   "source": [
    "---"
   ]
  },
  {
   "cell_type": "markdown",
   "id": "a86dd439",
   "metadata": {},
   "source": [
    "# <font size=6> Save Model"
   ]
  },
  {
   "cell_type": "code",
   "execution_count": null,
   "id": "2608c3df",
   "metadata": {},
   "outputs": [],
   "source": [
    "# save best model"
   ]
  },
  {
   "cell_type": "markdown",
   "id": "0479c8e1",
   "metadata": {},
   "source": [
    "---"
   ]
  },
  {
   "cell_type": "markdown",
   "id": "d25026b1",
   "metadata": {},
   "source": [
    "# <font size=6>Deployment"
   ]
  },
  {
   "cell_type": "code",
   "execution_count": null,
   "id": "6378a6ee",
   "metadata": {},
   "outputs": [],
   "source": []
  },
  {
   "cell_type": "markdown",
   "id": "a5e6d3ff",
   "metadata": {},
   "source": [
    "---"
   ]
  }
 ],
 "metadata": {
  "kernelspec": {
   "display_name": "Python 3 (ipykernel)",
   "language": "python",
   "name": "python3"
  },
  "language_info": {
   "codemirror_mode": {
    "name": "ipython",
    "version": 3
   },
   "file_extension": ".py",
   "mimetype": "text/x-python",
   "name": "python",
   "nbconvert_exporter": "python",
   "pygments_lexer": "ipython3",
   "version": "3.9.13"
  }
 },
 "nbformat": 4,
 "nbformat_minor": 5
}
